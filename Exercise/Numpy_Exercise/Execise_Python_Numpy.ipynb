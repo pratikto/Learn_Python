{
  "nbformat": 4,
  "nbformat_minor": 0,
  "metadata": {
    "colab": {
      "name": "Execise_Python_Numpy.ipynb",
      "provenance": []
    },
    "kernelspec": {
      "name": "python3",
      "display_name": "Python 3"
    }
  },
  "cells": [
    {
      "cell_type": "markdown",
      "metadata": {
        "id": "RZjR6B9hw4Qd"
      },
      "source": [
        "# Your First NumPy Array\r\n",
        "In this chapter, we're going to dive into the world of baseball. Along the way, you'll get comfortable with the basics of numpy, a powerful package to do data science.\r\n",
        "\r\n",
        "A list baseball has already been defined in the Python script, representing the height of some baseball players in centimeters. Can you add some code here and there to create a numpy array from it?\r\n"
      ]
    },
    {
      "cell_type": "code",
      "metadata": {
        "id": "vBFBAFCozf2w"
      },
      "source": [
        "# Load Library\r\n",
        "import numpy as np\r\n",
        "\r\n",
        "#create a vector as a row\r\n",
        "vector = np.array([1, 2, 3])\r\n",
        "\r\n",
        "# Create a vector as a column\r\n",
        "vector_column= np.array([[1],\r\n",
        "                        [2], \r\n",
        "                        [3]])\r\n",
        "\r\n",
        "#print\r\n",
        "print(vector)\r\n",
        "print(vector_column)"
      ],
      "execution_count": null,
      "outputs": []
    },
    {
      "cell_type": "code",
      "metadata": {
        "id": "VXiki_oq0fu4"
      },
      "source": [
        "#  Create matrix\r\n",
        "# load library\r\n",
        "import numpy as np\r\n",
        "\r\n",
        "#Create matrix\r\n",
        "matrix =np.array([[1,2], [1,2], [1,2]])\r\n",
        "\r\n",
        "print(matrix)"
      ],
      "execution_count": null,
      "outputs": []
    },
    {
      "cell_type": "code",
      "metadata": {
        "colab": {
          "base_uri": "https://localhost:8080/"
        },
        "id": "Lmg1x_xD0-M8",
        "outputId": "64a20394-200e-434e-d4ef-4e20eeefcef1"
      },
      "source": [
        "# Selecting Elements\r\n",
        "#Load Library\r\n",
        "import numpy as np\r\n",
        "\r\n",
        "# Create row vector\r\n",
        "vector = np.array([1,2,3,4,5,6])\r\n",
        "\r\n",
        "# Create matrix\r\n",
        "matrix =np.array([[1,2,3],\r\n",
        "          [4,5,6],\r\n",
        "          [7,8,9]])\r\n",
        "\r\n",
        "\r\n",
        "print(vector[2])\r\n",
        "\r\n",
        "print(matrix[1,2])"
      ],
      "execution_count": 18,
      "outputs": [
        {
          "output_type": "stream",
          "text": [
            "3\n",
            "6\n"
          ],
          "name": "stdout"
        }
      ]
    },
    {
      "cell_type": "markdown",
      "metadata": {
        "id": "FdsGBoBHzbqb"
      },
      "source": [
        "\r\n",
        "# Instructions\r\n",
        "* Import the numpy package as np, so that you can refer to numpy with np.\r\n",
        "* Use np.array() to create a numpy array from baseball. Name this array np_baseball.\r\n",
        "* Print out the type of np_baseball to check that you got it right."
      ]
    },
    {
      "cell_type": "code",
      "metadata": {
        "id": "9ucy6nHVwwyV"
      },
      "source": [
        "# Create list baseball\r\n",
        "baseball = [180, 215, 210, 210, 188, 176, 209, 200]\r\n",
        "\r\n",
        "# Import the numpy package as np\r\n",
        "import numpy as np\r\n",
        "\r\n",
        "# Create a numpy array from baseball: np_baseball\r\n",
        "np_baseball = np.array(baseball)\r\n",
        "\r\n",
        "# Print out type of np_baseball\r\n",
        "print(type(np_baseball))"
      ],
      "execution_count": null,
      "outputs": []
    },
    {
      "cell_type": "markdown",
      "metadata": {
        "id": "ln6v1JBUxMNx"
      },
      "source": [
        "#Instructions\r\n",
        "\r\n",
        "* Import the numpy package as np, so that you can refer to numpy with np.\r\n",
        "* Use np.array() to create a numpy array from baseball. Name this array np_baseball.\r\n",
        "* Print out the type of np_baseball to check that you got it right."
      ]
    },
    {
      "cell_type": "code",
      "metadata": {
        "id": "x_FIAVHVx4uu"
      },
      "source": [
        "# Import numpy\r\n",
        "import numpy as np\r\n",
        "height_in = [74, 75, 72, 75, 68, 71, 69, 80, 77] # in inch\r\n",
        "\r\n",
        "# Create a numpy array from height_in: np_height_in\r\n",
        "\r\n",
        "\r\n",
        "# Print out np_height_in\r\n",
        "\r\n",
        "\r\n",
        "# Convert np_height_in to meter: np_height_m\r\n",
        "\r\n",
        "\r\n",
        "# Print np_height_m\r\n"
      ],
      "execution_count": null,
      "outputs": []
    },
    {
      "cell_type": "markdown",
      "metadata": {
        "id": "ICnLRizWyxei"
      },
      "source": [
        "# Instruction \r\n",
        "* Create a numpy array from the weight_lb list with the correct units. Multiply by 0.453592 to go from pounds to kilograms. Store the resulting numpy array as np_weight_kg.\r\n",
        "* Use np_height_m and np_weight_kg to calculate the BMI of each player. Use the following equation: BMI = weight(kg) / height(m)^2\r\n",
        "*Save the resulting numpy array as bmi.\r\n",
        "*Print out bmi."
      ]
    },
    {
      "cell_type": "code",
      "metadata": {
        "id": "9r62pe49y98s"
      },
      "source": [
        "# height and weight are available as regular lists\r\n",
        "\r\n",
        "# Import numpy\r\n",
        "import numpy as np\r\n",
        "\r\n",
        "# Create array from height_in with metric units: np_height_m\r\n",
        "\r\n",
        "\r\n",
        "# Create array from weight_lb with metric units: np_weight_kg\r\n",
        "\r\n",
        "\r\n",
        "# Calculate the BMI: bmi\r\n",
        "\r\n",
        "\r\n",
        "# Print out bmi\r\n"
      ],
      "execution_count": null,
      "outputs": []
    }
  ]
}